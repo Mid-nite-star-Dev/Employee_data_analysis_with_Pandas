{
 "cells": [
  {
   "cell_type": "markdown",
   "id": "e801154a",
   "metadata": {},
   "source": [
    "# EXTRACTION"
   ]
  },
  {
   "cell_type": "code",
   "execution_count": 2,
   "id": "2607182f",
   "metadata": {},
   "outputs": [],
   "source": [
    "import pandas as pd\n",
    "emp = pd.read_csv(\"employee_data.csv\")   #NB: make sure you install pandas first on your jupyter notebook before importing\n"
   ]
  },
  {
   "cell_type": "markdown",
   "id": "b26580f4",
   "metadata": {},
   "source": [
    "# ANALYSIS"
   ]
  },
  {
   "cell_type": "code",
   "execution_count": 5,
   "id": "39743414",
   "metadata": {},
   "outputs": [
    {
     "name": "stdout",
     "output_type": "stream",
     "text": [
      "600\n"
     ]
    }
   ],
   "source": [
    "print(len(emp)) #How many records are there in the employee.csv dataset "
   ]
  },
  {
   "cell_type": "code",
   "execution_count": null,
   "id": "6c923108",
   "metadata": {},
   "outputs": [],
   "source": []
  },
  {
   "cell_type": "code",
   "execution_count": 6,
   "id": "1b8a75d9",
   "metadata": {},
   "outputs": [
    {
     "name": "stdout",
     "output_type": "stream",
     "text": [
      "149794\n"
     ]
    }
   ],
   "source": [
    "print(emp['Salary'].max()) #fetching the highest salary among the employee records"
   ]
  },
  {
   "cell_type": "code",
   "execution_count": null,
   "id": "eabfc260",
   "metadata": {},
   "outputs": [],
   "source": []
  },
  {
   "cell_type": "code",
   "execution_count": 6,
   "id": "459cfacf",
   "metadata": {},
   "outputs": [
    {
     "name": "stdout",
     "output_type": "stream",
     "text": [
      "    Department  Salary\n",
      "0  Engineering  149794\n",
      "1      Finance  148631\n",
      "2           HR  148672\n",
      "3    Marketing  149142\n",
      "4        Sales  149263\n"
     ]
    }
   ],
   "source": [
    "print(emp.pivot_table(index='Department',values='Salary',aggfunc='max').reset_index()) #Which department has the highest average salary"
   ]
  },
  {
   "cell_type": "code",
   "execution_count": null,
   "id": "74cd3b36",
   "metadata": {},
   "outputs": [],
   "source": []
  },
  {
   "cell_type": "code",
   "execution_count": 7,
   "id": "65065055",
   "metadata": {},
   "outputs": [
    {
     "name": "stdout",
     "output_type": "stream",
     "text": [
      "58542435\n"
     ]
    }
   ],
   "source": [
    "print(emp['Salary'].sum()) #What is the total salary expenditure for the company"
   ]
  },
  {
   "cell_type": "code",
   "execution_count": null,
   "id": "3e717713",
   "metadata": {},
   "outputs": [],
   "source": []
  },
  {
   "cell_type": "code",
   "execution_count": 7,
   "id": "4dddfd5e",
   "metadata": {},
   "outputs": [
    {
     "name": "stdout",
     "output_type": "stream",
     "text": [
      "Engineering    105\n",
      "Marketing      116\n",
      "Sales          118\n",
      "HR             122\n",
      "Finance        139\n",
      "Name: Department, dtype: int64\n"
     ]
    }
   ],
   "source": [
    "print(emp['Department'].value_counts(ascending=True)) # How many employees are in each department ?"
   ]
  },
  {
   "cell_type": "code",
   "execution_count": null,
   "id": "82b320ed",
   "metadata": {},
   "outputs": [],
   "source": []
  },
  {
   "cell_type": "markdown",
   "id": "ce1f7142",
   "metadata": {},
   "source": [
    "# **TRANSFORMATION**"
   ]
  },
  {
   "cell_type": "code",
   "execution_count": 9,
   "id": "9ed54066",
   "metadata": {},
   "outputs": [
    {
     "name": "stdout",
     "output_type": "stream",
     "text": [
      "0      10826.8\n",
      "1       8356.7\n",
      "2       8261.3\n",
      "3       8589.1\n",
      "4       6124.3\n",
      "        ...   \n",
      "595     7729.2\n",
      "596    13913.1\n",
      "597    11557.7\n",
      "598     9598.6\n",
      "599     5041.3\n",
      "Name: Salary, Length: 600, dtype: float64\n"
     ]
    }
   ],
   "source": [
    "Bonus=emp['Employee_bonus'] = emp['Salary']*0.1 #adding a new column name 'Employe_bonus' to get bonus from each employees in the dataset\n",
    "print(Bonus)"
   ]
  },
  {
   "cell_type": "code",
   "execution_count": null,
   "id": "aaf19ec5",
   "metadata": {},
   "outputs": [],
   "source": []
  },
  {
   "cell_type": "code",
   "execution_count": 23,
   "id": "1cc8c6d0",
   "metadata": {},
   "outputs": [
    {
     "name": "stdout",
     "output_type": "stream",
     "text": [
      "0      119094.8\n",
      "1       91923.7\n",
      "2       90874.3\n",
      "3       94480.1\n",
      "4       67367.3\n",
      "         ...   \n",
      "595     85021.2\n",
      "596    153044.1\n",
      "597    127134.7\n",
      "598    105584.6\n",
      "599     55454.3\n",
      "Length: 600, dtype: float64\n"
     ]
    }
   ],
   "source": [
    "Total = emp['Total_compensation']=emp['Salary'] + emp['Employee_bonus']  #adding a new column name 'Total_compensation' to get the totally of each employees in the dataset\n",
    "print(Total)"
   ]
  },
  {
   "cell_type": "code",
   "execution_count": null,
   "id": "94c9f93f",
   "metadata": {},
   "outputs": [],
   "source": []
  },
  {
   "cell_type": "code",
   "execution_count": 24,
   "id": "4a040863",
   "metadata": {},
   "outputs": [],
   "source": [
    "emp.to_csv(\"New_Employees_data\") #converting/saving the transformation from the record employees dataset to a new csv file named 'New_Employees_data'"
   ]
  },
  {
   "cell_type": "code",
   "execution_count": null,
   "id": "8a193f43",
   "metadata": {},
   "outputs": [],
   "source": []
  }
 ],
 "metadata": {
  "kernelspec": {
   "display_name": "Python 3 (ipykernel)",
   "language": "python",
   "name": "python3"
  },
  "language_info": {
   "codemirror_mode": {
    "name": "ipython",
    "version": 3
   },
   "file_extension": ".py",
   "mimetype": "text/x-python",
   "name": "python",
   "nbconvert_exporter": "python",
   "pygments_lexer": "ipython3",
   "version": "3.10.9"
  }
 },
 "nbformat": 4,
 "nbformat_minor": 5
}
